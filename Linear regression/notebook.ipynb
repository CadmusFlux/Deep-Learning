{
  "nbformat": 4,
  "nbformat_minor": 0,
  "metadata": {
    "orig_nbformat": 2,
    "deepnote_notebook_id": "3e38c9c5-7b9b-4446-8603-6fae883b1915",
    "deepnote_execution_queue": [],
    "colab": {
      "name": "notebook.ipynb",
      "provenance": []
    },
    "kernelspec": {
      "name": "python3",
      "display_name": "Python 3"
    },
    "accelerator": "GPU"
  },
  "cells": [
    {
      "cell_type": "code",
      "metadata": {
        "tags": [],
        "cell_id": "00000-2dd4e4b8-e5a0-4a86-a531-eba5c7c0b8e6",
        "deepnote_to_be_reexecuted": false,
        "source_hash": "a1d7daab",
        "execution_start": 1610342128461,
        "execution_millis": 14,
        "deepnote_cell_type": "code",
        "id": "Hkrdab06b3ID"
      },
      "source": [
        "from datetime import datetime\n",
        "start = datetime.now()\n",
        "#Code\n",
        "end = datetime.now()\n",
        "time_taken = end - start\n",
        "# print('Time: ',time_taken)"
      ],
      "execution_count": 17,
      "outputs": []
    },
    {
      "cell_type": "code",
      "metadata": {
        "tags": [],
        "cell_id": "00000-b7794830-744e-4f97-be20-00fbd09b3a35",
        "deepnote_to_be_reexecuted": false,
        "source_hash": "6af6e1a6",
        "execution_millis": 1,
        "execution_start": 1610342128864,
        "deepnote_cell_type": "code",
        "id": "jhCPRt8Tb3IN"
      },
      "source": [
        "import numpy as np\n",
        "np.random.seed(42)\n",
        "x = np.random.rand(100,1)\n",
        "y = 1 + 2 * x + .1 * np.random.randn(100, 1)\n"
      ],
      "execution_count": 18,
      "outputs": []
    },
    {
      "cell_type": "code",
      "metadata": {
        "tags": [],
        "cell_id": "00002-634273b5-d30f-4360-94f7-9993df6596cb",
        "deepnote_to_be_reexecuted": false,
        "source_hash": "a815bcf8",
        "execution_millis": 2,
        "execution_start": 1610342129232,
        "deepnote_cell_type": "code",
        "id": "qT6qUojWb3IO"
      },
      "source": [
        "idx = np.arange(100)\n",
        "np.random.shuffle(idx)\n",
        "train = idx[:80]\n",
        "valid = idx[80:]\n",
        "\n",
        "x_train , y_train = x[train],y[train]\n",
        "x_test , y_test = x[valid],y[valid]"
      ],
      "execution_count": 19,
      "outputs": []
    },
    {
      "cell_type": "code",
      "metadata": {
        "tags": [],
        "cell_id": "00003-099c5f93-785b-40b5-a8de-883c02e08371",
        "deepnote_to_be_reexecuted": false,
        "source_hash": "692ae804",
        "execution_millis": 25,
        "execution_start": 1610342169750,
        "deepnote_cell_type": "code",
        "id": "-ELisjgwb3IQ"
      },
      "source": [
        "# x_test.shape"
      ],
      "execution_count": 20,
      "outputs": []
    },
    {
      "cell_type": "code",
      "metadata": {
        "tags": [],
        "cell_id": "00005-9bfd13fc-3e37-4793-b6fc-3d41f63ce661",
        "deepnote_to_be_reexecuted": false,
        "source_hash": "32e36e6a",
        "execution_start": 1610345680212,
        "execution_millis": 1,
        "deepnote_cell_type": "code",
        "id": "R4XkntNnb3IQ"
      },
      "source": [
        "np.random.seed(42)\n",
        "a = np.random.randn(1)\n",
        "b = np.random.randn(1)"
      ],
      "execution_count": 21,
      "outputs": []
    },
    {
      "cell_type": "code",
      "metadata": {
        "tags": [],
        "cell_id": "00004-446f2d4c-e38f-42b7-a192-9635f3cad308",
        "deepnote_to_be_reexecuted": false,
        "source_hash": "766c451a",
        "execution_millis": 5,
        "execution_start": 1610345785574,
        "deepnote_cell_type": "code",
        "id": "hJrig6sSb3IS"
      },
      "source": [
        "lr = 0.1\n",
        "epochs = 1000"
      ],
      "execution_count": 22,
      "outputs": []
    },
    {
      "cell_type": "code",
      "metadata": {
        "tags": [],
        "cell_id": "00005-837551cd-412b-4b04-9496-d50bd9504d39",
        "deepnote_to_be_reexecuted": false,
        "source_hash": "e84971b6",
        "execution_millis": 96,
        "execution_start": 1610346238023,
        "deepnote_cell_type": "code",
        "id": "ZZShOteMb3IS"
      },
      "source": [
        "for epoch in range(epochs):\n",
        "\n",
        "    y_pred = a + b*x_train\n",
        "\n",
        "    error = y_train - y_pred\n",
        "\n",
        "    loss = (error**2).mean()\n",
        "\n",
        "    da = -2 * error.mean()\n",
        "    db = -2 * (x_train*error).mean()\n",
        "\n",
        "    a = a - lr * da\n",
        "    b = b - lr * db\n",
        "    \n",
        "# print(a,b)"
      ],
      "execution_count": 23,
      "outputs": []
    },
    {
      "cell_type": "code",
      "metadata": {
        "tags": [],
        "cell_id": "00006-59525668-00af-4268-9a8e-72cc39810b90",
        "deepnote_to_be_reexecuted": false,
        "source_hash": "9527aab5",
        "execution_millis": 1503,
        "execution_start": 1610346882860,
        "deepnote_cell_type": "code",
        "id": "wbmAAWjzb3IT"
      },
      "source": [
        "from sklearn.linear_model import LinearRegression"
      ],
      "execution_count": 24,
      "outputs": []
    },
    {
      "cell_type": "code",
      "metadata": {
        "tags": [],
        "cell_id": "00008-7cc66805-f43a-4bec-ad6e-beb4b46f25ea",
        "deepnote_to_be_reexecuted": false,
        "source_hash": "104121ea",
        "execution_start": 1610346980369,
        "execution_millis": 32,
        "deepnote_cell_type": "code",
        "id": "P3rn1Dwhb3IT",
        "outputId": "e125e45d-5ccb-46f2-cc85-df8b218e2d3a",
        "colab": {
          "base_uri": "https://localhost:8080/"
        }
      },
      "source": [
        "linearreg = LinearRegression()\n",
        "linearreg.fit(x_train,y_train)\n",
        "# print(linearreg.intercept_,linearreg.coef_)"
      ],
      "execution_count": 25,
      "outputs": [
        {
          "output_type": "execute_result",
          "data": {
            "text/plain": [
              "LinearRegression(copy_X=True, fit_intercept=True, n_jobs=None, normalize=False)"
            ]
          },
          "metadata": {
            "tags": []
          },
          "execution_count": 25
        }
      ]
    },
    {
      "cell_type": "code",
      "metadata": {
        "tags": [],
        "cell_id": "00009-28010ffa-5b39-4ef7-b251-4dfc62324103",
        "deepnote_to_be_reexecuted": false,
        "source_hash": "c830b63f",
        "execution_millis": 10,
        "execution_start": 1610347114383,
        "deepnote_cell_type": "code",
        "id": "LH9yL1q7b3IV"
      },
      "source": [
        "pred = linearreg.predict(x_test)"
      ],
      "execution_count": 26,
      "outputs": []
    },
    {
      "cell_type": "code",
      "metadata": {
        "tags": [],
        "cell_id": "00011-dd6aa8fc-9fc8-4d35-8d61-59050cf60fc0",
        "deepnote_cell_type": "code",
        "id": "GKasyiE1b3IW",
        "outputId": "f147a387-f33b-4630-8174-681605aa4bd2",
        "colab": {
          "base_uri": "https://localhost:8080/"
        }
      },
      "source": [
        "pip install torchviz"
      ],
      "execution_count": 27,
      "outputs": [
        {
          "output_type": "stream",
          "text": [
            "Requirement already satisfied: torchviz in /usr/local/lib/python3.6/dist-packages (0.0.1)\n",
            "Requirement already satisfied: graphviz in /usr/local/lib/python3.6/dist-packages (from torchviz) (0.10.1)\n",
            "Requirement already satisfied: torch in /usr/local/lib/python3.6/dist-packages (from torchviz) (1.7.0+cu101)\n",
            "Requirement already satisfied: numpy in /usr/local/lib/python3.6/dist-packages (from torch->torchviz) (1.19.5)\n",
            "Requirement already satisfied: dataclasses in /usr/local/lib/python3.6/dist-packages (from torch->torchviz) (0.8)\n",
            "Requirement already satisfied: typing-extensions in /usr/local/lib/python3.6/dist-packages (from torch->torchviz) (3.7.4.3)\n",
            "Requirement already satisfied: future in /usr/local/lib/python3.6/dist-packages (from torch->torchviz) (0.16.0)\n"
          ],
          "name": "stdout"
        }
      ]
    },
    {
      "cell_type": "code",
      "metadata": {
        "id": "Z2Pm4CLXciD3"
      },
      "source": [
        "import torch\r\n",
        "import torch.optim as optim\r\n",
        "import torch.nn as nn\r\n",
        "from torchviz import make_dot"
      ],
      "execution_count": 28,
      "outputs": []
    },
    {
      "cell_type": "code",
      "metadata": {
        "id": "lgvc6F8Bcn8v"
      },
      "source": [
        "device = \"cuda\" if torch.cuda.is_available() else \"cpu\""
      ],
      "execution_count": 29,
      "outputs": []
    },
    {
      "cell_type": "code",
      "metadata": {
        "id": "z8GGFP8DcoWZ",
        "outputId": "87fe8f05-b169-4979-f0bd-450f73571383",
        "colab": {
          "base_uri": "https://localhost:8080/",
          "height": 36
        }
      },
      "source": [
        "device"
      ],
      "execution_count": 30,
      "outputs": [
        {
          "output_type": "execute_result",
          "data": {
            "application/vnd.google.colaboratory.intrinsic+json": {
              "type": "string"
            },
            "text/plain": [
              "'cuda'"
            ]
          },
          "metadata": {
            "tags": []
          },
          "execution_count": 30
        }
      ]
    },
    {
      "cell_type": "code",
      "metadata": {
        "id": "HyjYa4HIcqIm",
        "outputId": "977dd574-0568-44ac-addc-677eed75cfd7",
        "colab": {
          "base_uri": "https://localhost:8080/"
        }
      },
      "source": [
        "!git init\r\n"
      ],
      "execution_count": 31,
      "outputs": [
        {
          "output_type": "stream",
          "text": [
            "Initialized empty Git repository in /content/.git/\n"
          ],
          "name": "stdout"
        }
      ]
    },
    {
      "cell_type": "code",
      "metadata": {
        "id": "KDgMOCzbdfzW"
      },
      "source": [
        ""
      ],
      "execution_count": null,
      "outputs": []
    }
  ]
}