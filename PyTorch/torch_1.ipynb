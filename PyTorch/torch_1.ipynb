{
 "cells": [
  {
   "cell_type": "code",
   "metadata": {
    "tags": [],
    "cell_id": "00000-791efc54-0fe4-4316-bf98-69faba67f60c",
    "deepnote_to_be_reexecuted": false,
    "source_hash": "71515f25",
    "execution_start": 1623235472162,
    "execution_millis": 0,
    "deepnote_cell_type": "code"
   },
   "source": "from pathlib import Path\nimport requests",
   "execution_count": null,
   "outputs": []
  },
  {
   "cell_type": "markdown",
   "source": "    1. Path and request module are used for fetching data from src.\n    2. The data is a zip file which contains the MNIST dataset in\n       pickle format.\n    3. Pickle format is used for serializing data(binary stream)\n       objects in python.",
   "metadata": {
    "tags": [],
    "cell_id": "00001-dc50f681-731d-4b0a-9277-c3706f13ba73",
    "deepnote_cell_type": "markdown"
   }
  },
  {
   "cell_type": "code",
   "metadata": {
    "tags": [],
    "cell_id": "00001-2c290225-39ca-4094-937c-f7aa00936624",
    "deepnote_to_be_reexecuted": false,
    "source_hash": "af398855",
    "execution_start": 1623235472162,
    "execution_millis": 1,
    "deepnote_cell_type": "code"
   },
   "source": "DATA_PATH = Path(\"data\")\nPATH = DATA_PATH / \"mnist\"\n\nPATH.mkdir( parents=True, exist_ok = True )\n\nURL = \"https://github.com/pytorch/tutorials/raw/master/_static/\"\nFILENAME = \"mnist.pkl.gz\"\n\nif not (PATH / FILENAME).exists():\n\n    content = requests.get(URL+FILENAME).content\n    (PATH / FILENAME).open(\"wb\").write(content)",
   "execution_count": null,
   "outputs": []
  },
  {
   "cell_type": "markdown",
   "source": "Here we use gzip and pickle module to unzip and access the dataset.",
   "metadata": {
    "tags": [],
    "cell_id": "00003-eccee77e-3a99-46f3-b010-56f339302af8",
    "deepnote_cell_type": "text-cell-p"
   }
  },
  {
   "cell_type": "code",
   "metadata": {
    "tags": [],
    "cell_id": "00002-35c8ee8b-8126-4f83-b885-0daf350f1c20",
    "deepnote_to_be_reexecuted": false,
    "source_hash": "3551f4d7",
    "execution_start": 1623235472163,
    "execution_millis": 968,
    "deepnote_cell_type": "code"
   },
   "source": "import pickle\nimport gzip\n\nwith gzip.open((PATH / FILENAME).as_posix(),\"rb\") as f:\n        ((x_train,y_train) ,(x_valid,y_valid),_) = pickle.load(f,\n            encoding= \"latin-1\")\n",
   "execution_count": null,
   "outputs": []
  },
  {
   "cell_type": "markdown",
   "source": "    1. The dataset are pixels of images but they are stored as a\n       flattened single vector or array with 784(28*28) columns or\n       entries. \n    2. Inorder to plot the image we need to reshape it to 2D.\n    3. There are 50,000 images or instances.",
   "metadata": {
    "tags": [],
    "cell_id": "00005-d98b3bda-afce-44c0-af97-d5d9b30122e6",
    "deepnote_cell_type": "markdown"
   }
  },
  {
   "cell_type": "code",
   "metadata": {
    "tags": [],
    "cell_id": "00003-61f5da25-f272-49fd-9aeb-1c8dfba1815f",
    "deepnote_to_be_reexecuted": false,
    "source_hash": "3c530038",
    "execution_start": 1623235473135,
    "execution_millis": 532,
    "deepnote_cell_type": "code"
   },
   "source": "from matplotlib import pyplot\nimport numpy as np\n\npyplot.imshow(x_train[0].reshape(28,28),cmap = \"gray\")\nprint(x_train.shape)",
   "execution_count": null,
   "outputs": [
    {
     "name": "stdout",
     "text": "(50000, 784)\n",
     "output_type": "stream"
    },
    {
     "data": {
      "text/plain": "<Figure size 432x288 with 1 Axes>",
      "image/png": "[encoded data removed]"
     },
     "metadata": {
      "needs_background": "light",
      "image/png": {
       "width": 251,
       "height": 248
      }
     },
     "output_type": "display_data"
    }
   ]
  },
  {
   "cell_type": "markdown",
   "source": "1. PyTorch works on torch.tensor data-objects but our data is an\n   array. Hence we need to construct tensor object from our dataset.\n2. Torch.tensor is a module which does this,  hence we use map and\n   (tensor module & corresponding array objects) to replace the array\n   storing variables with tensor objects. ",
   "metadata": {
    "tags": [],
    "cell_id": "00007-e512060e-373f-4248-ad74-ef32a6fb8bdb",
    "deepnote_cell_type": "markdown"
   }
  },
  {
   "cell_type": "code",
   "metadata": {
    "tags": [],
    "cell_id": "00004-025e67c4-191d-4bfe-adbd-c06075f279e8",
    "deepnote_to_be_reexecuted": false,
    "source_hash": "b6a448c",
    "execution_start": 1623235473664,
    "execution_millis": 991,
    "output_cleared": false,
    "deepnote_cell_type": "code"
   },
   "source": "import torch\n\nx_train , Y_train , x_valid , y_valid = map(\n        torch.tensor , (x_train,y_train,x_valid,y_valid)\n)\nn,c = x_train.shape\n\nprint(x_train,y_train)\nprint(x_train.shape)\nprint(y_train.min(),y_train.max())",
   "execution_count": null,
   "outputs": [
    {
     "name": "stdout",
     "text": "tensor([[0., 0., 0.,  ..., 0., 0., 0.],\n        [0., 0., 0.,  ..., 0., 0., 0.],\n        [0., 0., 0.,  ..., 0., 0., 0.],\n        ...,\n        [0., 0., 0.,  ..., 0., 0., 0.],\n        [0., 0., 0.,  ..., 0., 0., 0.],\n        [0., 0., 0.,  ..., 0., 0., 0.]]) [5 0 4 ... 8 4 8]\ntorch.Size([50000, 784])\n0 9\n",
     "output_type": "stream"
    }
   ]
  },
  {
   "cell_type": "markdown",
   "source": "## Model (with tensor operations)",
   "metadata": {
    "tags": [],
    "cell_id": "00009-4793e7d0-789b-4302-a6b3-a19c55297a89",
    "deepnote_cell_type": "text-cell-h2"
   }
  },
  {
   "cell_type": "markdown",
   "source": "### Initializing weights &amp; biases",
   "metadata": {
    "tags": [],
    "cell_id": "00010-61a9826e-efeb-43fb-94f6-2aaa366271f2",
    "deepnote_cell_type": "text-cell-h3"
   }
  },
  {
   "cell_type": "markdown",
   "source": "Dimensions :\n\n   1. x (feature-vector) : (64,784) (instances , features or pixels)\n   2. y (Label) : (64,1) (instances , labels)\n   3. W (weights) : (784,10) ( features or x[1] , neurons in layer)\n   4. b (bias) : (1,10)\n   5. Z (activation) : (1,10)    ",
   "metadata": {
    "tags": [],
    "cell_id": "00011-1850f757-ea84-4c19-b486-c4f3a68bfe91",
    "deepnote_cell_type": "markdown"
   }
  },
  {
   "cell_type": "code",
   "metadata": {
    "tags": [],
    "cell_id": "00006-8639d22c-d7f1-48e0-b5b7-6ab97a5c6436",
    "deepnote_to_be_reexecuted": false,
    "source_hash": "ad09f98e",
    "execution_start": 1623235474653,
    "execution_millis": 3,
    "deepnote_cell_type": "code"
   },
   "source": "import math\n\nweights = torch.randn(784,10) / math.sqrt(784)\nweights.requires_grad_()\nbias = torch.zeros(10,requires_grad= True)",
   "execution_count": null,
   "outputs": []
  },
  {
   "cell_type": "markdown",
   "source": "### Activation Function",
   "metadata": {
    "tags": [],
    "cell_id": "00011-9fb15a9b-8aef-4d12-b8e3-e01d0b1a064b",
    "deepnote_cell_type": "text-cell-h3"
   }
  },
  {
   "cell_type": "markdown",
   "source": "1. What we're doing here is basically building a neural net for a classification problem with 10 outputs (0-9).\n2. This doesn't have hidden layers.\n3. The activation function used here is log-softmax.\n4. This provides probability of each class for a input/instance.\n\n",
   "metadata": {
    "tags": [],
    "cell_id": "00011-5eecc0a8-74c7-4cbd-97d1-fb919223b74e",
    "deepnote_cell_type": "markdown"
   }
  },
  {
   "cell_type": "code",
   "metadata": {
    "tags": [],
    "cell_id": "00012-8639fe9d-a2f5-4a5a-b322-88af855280d0",
    "deepnote_to_be_reexecuted": false,
    "source_hash": "95009cce",
    "execution_start": 1623235474661,
    "execution_millis": 4,
    "deepnote_cell_type": "code"
   },
   "source": "def log_softmax(x):\n    return x - x.exp().sum(-1).log().unsqueeze(-1)\n\ndef model(xb):\n    return log_softmax(xb @ weights + bias)",
   "execution_count": null,
   "outputs": []
  },
  {
   "cell_type": "code",
   "metadata": {
    "tags": [],
    "cell_id": "00012-94dd6d80-dd14-4e34-ae8d-3c45eb9a911e",
    "deepnote_to_be_reexecuted": false,
    "source_hash": "52b41fee",
    "execution_start": 1623235866605,
    "execution_millis": 6,
    "output_cleared": false,
    "deepnote_cell_type": "code"
   },
   "source": "bs = 64\n\nxb = x_train[0:bs]\npreds = model(xb)\npreds[0] , preds.shape\nprint(preds[0],preds.shape)",
   "execution_count": null,
   "outputs": [
    {
     "name": "stdout",
     "text": "tensor([-2.5562, -2.2111, -1.8952, -2.5964, -2.6124, -2.1189, -2.3035, -2.6178,\n        -2.1590, -2.2430], grad_fn=<SelectBackward>) torch.Size([64, 10])\n",
     "output_type": "stream"
    }
   ]
  },
  {
   "cell_type": "markdown",
   "source": "### Loss Function",
   "metadata": {
    "tags": [],
    "cell_id": "00017-5c5ab771-38b4-4412-93c8-cbff61ecfb3c",
    "deepnote_cell_type": "text-cell-h3"
   }
  },
  {
   "cell_type": "code",
   "metadata": {
    "tags": [],
    "cell_id": "00018-8ac865e3-21f9-4f1d-ba61-97d69a976284",
    "deepnote_to_be_reexecuted": false,
    "source_hash": "42d5ebeb",
    "execution_start": 1623237875573,
    "execution_millis": 1,
    "deepnote_cell_type": "code"
   },
   "source": "def nll( g,target):\n    return -g[range(target.shape[0]), target].mean()\n    \n\nloss_func = nll",
   "execution_count": null,
   "outputs": []
  },
  {
   "cell_type": "code",
   "metadata": {
    "tags": [],
    "cell_id": "00019-6107d9a5-84de-4cb0-8724-2e23f78ddd31",
    "deepnote_to_be_reexecuted": false,
    "source_hash": "995f4cdc",
    "execution_start": 1623237876313,
    "execution_millis": 7,
    "output_cleared": false,
    "deepnote_cell_type": "code"
   },
   "source": "yb = y_train[0:bs]\nprint(loss_func(preds,yb))",
   "execution_count": null,
   "outputs": [
    {
     "name": "stdout",
     "text": "tensor(2.2798, grad_fn=<NegBackward>)\n",
     "output_type": "stream"
    }
   ]
  },
  {
   "cell_type": "code",
   "metadata": {
    "tags": [],
    "cell_id": "00020-b6ac12ca-02d4-4bd8-9fb5-fc0f9817f5f7",
    "deepnote_to_be_reexecuted": false,
    "source_hash": "c7abf3ac",
    "execution_start": 1623238901282,
    "execution_millis": 11,
    "deepnote_cell_type": "code"
   },
   "source": "preds",
   "execution_count": null,
   "outputs": [
    {
     "output_type": "execute_result",
     "execution_count": 69,
     "data": {
      "text/plain": "tensor([[-2.5562, -2.2111, -1.8952, -2.5964, -2.6124, -2.1189, -2.3035, -2.6178,\n         -2.1590, -2.2430],\n        [-2.7586, -2.6925, -1.9964, -2.7765, -2.3301, -2.1970, -2.4888, -2.6675,\n         -1.5361, -2.3564],\n        [-2.6596, -1.9952, -2.4353, -2.2511, -2.2621, -2.3318, -2.7089, -2.1014,\n         -2.5214, -2.0348],\n        [-2.6024, -2.0837, -2.4069, -2.2709, -2.3442, -2.3552, -2.2429, -2.1046,\n         -2.2500, -2.4783],\n        [-2.9204, -2.0508, -2.3804, -2.1732, -2.5130, -2.3009, -2.3271, -2.6847,\n         -2.0894, -1.9635],\n        [-2.8741, -2.3547, -1.7631, -1.9870, -2.4638, -2.5766, -2.4247, -3.0592,\n         -2.3770, -1.8931],\n        [-2.5960, -2.1625, -2.1830, -2.1045, -2.6041, -2.4613, -2.0905, -2.2671,\n         -2.6210, -2.1496],\n        [-2.6323, -2.5081, -2.0236, -1.9423, -2.4428, -2.2301, -2.7629, -2.3267,\n         -2.1052, -2.3631],\n        [-2.6332, -2.0945, -2.3571, -2.1768, -2.5818, -2.2897, -2.0709, -2.3575,\n         -2.5032, -2.1419],\n        [-2.8086, -2.2871, -2.1943, -2.1590, -2.6595, -2.3047, -2.2757, -2.5077,\n         -2.1644, -1.9485],\n        [-2.6119, -2.1202, -2.2930, -1.9029, -2.2868, -2.3616, -2.2470, -2.4068,\n         -2.4636, -2.5295],\n        [-2.7904, -2.0066, -2.2972, -2.4964, -2.3514, -2.1160, -2.2536, -2.3081,\n         -2.3562, -2.2420],\n        [-2.5528, -2.0888, -1.7812, -2.5114, -2.2911, -2.2597, -2.6332, -2.5878,\n         -2.8043, -1.9981],\n        [-2.9885, -2.4976, -1.8910, -2.2026, -2.5161, -2.4044, -2.0973, -2.5173,\n         -2.0774, -2.2434],\n        [-2.6083, -2.0022, -2.3247, -2.2692, -2.4606, -2.1696, -2.0863, -2.5537,\n         -2.3603, -2.3629],\n        [-2.6440, -2.3969, -2.2524, -2.2110, -2.5339, -2.3600, -2.2010, -2.5678,\n         -2.0427, -2.0224],\n        [-2.5767, -2.7435, -2.1022, -1.8527, -2.0315, -2.3922, -2.4546, -2.5353,\n         -2.4137, -2.2686],\n        [-2.8322, -2.1321, -2.4963, -1.9486, -2.5564, -2.1685, -2.3746, -2.4125,\n         -2.1647, -2.2228],\n        [-2.3620, -2.2208, -2.0968, -2.1094, -2.3630, -2.5018, -2.3912, -2.5595,\n         -2.1484, -2.3918],\n        [-2.7756, -2.1481, -2.3008, -1.9907, -2.6756, -2.2397, -2.0216, -2.3835,\n         -2.5021, -2.2804],\n        [-2.8066, -1.8606, -2.2635, -2.4279, -2.0870, -2.3486, -2.4384, -2.5907,\n         -2.3564, -2.1610],\n        [-2.7850, -2.3898, -2.0515, -2.7652, -2.0205, -2.4321, -2.7271, -2.5007,\n         -1.5478, -2.5969],\n        [-2.4492, -2.5526, -2.1806, -1.9460, -2.4303, -2.3795, -2.0807, -2.5911,\n         -2.2402, -2.3738],\n        [-2.6514, -2.0529, -2.3968, -2.2187, -2.3916, -2.3266, -2.2055, -2.1539,\n         -2.3200, -2.4336],\n        [-2.7842, -2.2932, -2.0949, -1.9617, -2.6512, -2.8380, -2.0516, -2.6136,\n         -1.9964, -2.2363],\n        [-2.7646, -2.4816, -1.6824, -2.0891, -2.3261, -2.6707, -2.6452, -2.2423,\n         -2.4584, -2.1716],\n        [-2.5746, -2.0526, -2.2799, -2.2204, -2.4120, -2.3228, -2.3239, -2.3890,\n         -2.2813, -2.2522],\n        [-2.6270, -2.4622, -1.7568, -2.3843, -2.4588, -2.1522, -2.9189, -2.2629,\n         -2.3622, -2.0901],\n        [-2.9358, -2.3221, -1.7667, -2.4332, -2.2867, -2.4530, -2.2890, -2.5602,\n         -2.2537, -2.1295],\n        [-2.6618, -2.1148, -2.1578, -2.2783, -2.5393, -2.2788, -2.1669, -2.4443,\n         -2.5488, -2.0352],\n        [-2.8016, -1.9066, -2.0159, -2.3583, -2.5804, -2.4630, -2.5539, -2.2131,\n         -2.3530, -2.1221],\n        [-2.7621, -2.5207, -2.1124, -1.8368, -2.5371, -2.3783, -2.1642, -2.4151,\n         -2.1200, -2.5242],\n        [-2.4078, -2.5719, -1.8284, -2.4445, -2.3647, -2.5666, -2.2538, -2.5356,\n         -2.0324, -2.3012],\n        [-2.6411, -2.4638, -2.2194, -2.1956, -2.5829, -2.4039, -2.0910, -2.4196,\n         -2.2415, -1.9740],\n        [-2.6892, -2.2145, -2.3404, -2.6638, -2.3858, -2.5659, -2.3642, -2.5246,\n         -1.7635, -1.9487],\n        [-2.6307, -2.4950, -2.3285, -2.0474, -2.6680, -2.3054, -2.0466, -2.4843,\n         -2.2424, -2.0318],\n        [-2.5079, -1.9955, -2.0784, -2.3511, -2.8902, -2.4295, -2.0375, -2.9716,\n         -2.0881, -2.1797],\n        [-2.9145, -2.6019, -2.2834, -2.5267, -2.5160, -2.5298, -2.2545, -2.8885,\n         -1.5724, -1.8252],\n        [-2.5572, -2.0642, -2.3231, -2.1144, -2.3503, -2.4601, -2.4883, -2.3159,\n         -2.3001, -2.1704],\n        [-2.6950, -2.2806, -2.0474, -2.3013, -2.5148, -2.7116, -2.0245, -2.6626,\n         -1.9432, -2.2196],\n        [-2.4261, -2.1211, -2.3788, -2.0537, -2.2873, -2.5124, -2.0515, -2.5948,\n         -2.3544, -2.4078],\n        [-2.7995, -2.0931, -2.5237, -1.9091, -2.2880, -2.3537, -2.5777, -2.6085,\n         -2.0829, -2.1470],\n        [-2.6882, -2.0810, -2.2313, -2.2478, -2.4684, -2.2527, -2.1762, -2.4044,\n         -2.3043, -2.2956],\n        [-2.5125, -2.2531, -2.2010, -2.1434, -2.3055, -2.1907, -2.0075, -2.6349,\n         -2.5257, -2.4268],\n        [-2.3682, -2.2659, -2.2081, -2.5289, -2.4476, -2.1854, -2.4404, -2.2993,\n         -2.1680, -2.1878],\n        [-2.8363, -2.1947, -2.4037, -2.0923, -2.0899, -2.3331, -2.3739, -2.8127,\n         -2.0513, -2.1736],\n        [-2.6179, -1.9760, -2.5011, -2.1545, -2.4306, -2.8563, -2.4204, -2.0901,\n         -1.9962, -2.3374],\n        [-2.9735, -2.7483, -2.6026, -2.2223, -2.5399, -2.1298, -2.3126, -2.3293,\n         -1.5962, -2.2478],\n        [-2.7597, -2.3199, -2.1067, -2.3935, -2.2923, -2.2098, -2.4002, -2.3857,\n         -2.3539, -1.9880],\n        [-2.5202, -2.2675, -2.0296, -2.2871, -2.4057, -2.0832, -2.5715, -2.3270,\n         -2.2926, -2.3721],\n        [-2.2873, -2.2884, -2.0952, -2.4005, -2.1180, -2.4882, -2.2719, -2.4119,\n         -2.3306, -2.4081],\n        [-2.8338, -2.4295, -1.8484, -2.6170, -2.3677, -2.4186, -2.7335, -2.3712,\n         -1.7755, -2.1881],\n        [-2.8203, -1.8343, -2.4813, -2.6274, -2.4131, -2.3776, -2.3681, -2.3158,\n         -2.0371, -2.1226],\n        [-2.7741, -1.8923, -2.2462, -2.0939, -2.5600, -2.2256, -2.3011, -2.4766,\n         -2.5933, -2.1750],\n        [-3.1909, -2.0664, -2.3859, -1.8943, -2.4829, -2.5275, -2.4069, -2.3179,\n         -2.1922, -2.0700],\n        [-2.8302, -2.1193, -2.0143, -2.3023, -2.5756, -2.2217, -2.3041, -2.5513,\n         -2.4209, -1.9933],\n        [-2.8421, -2.4249, -2.0621, -2.2675, -2.3325, -2.3184, -2.7383, -2.5864,\n         -1.8809, -2.0059],\n        [-2.6991, -2.4453, -2.2360, -1.9862, -2.2878, -2.3783, -2.1380, -2.6339,\n         -2.2021, -2.2304],\n        [-2.6401, -2.0554, -2.1527, -2.3104, -2.1924, -2.6326, -2.6774, -2.3784,\n         -2.1801, -2.0620],\n        [-2.6094, -2.1361, -2.3749, -2.1849, -2.1597, -2.4414, -2.2615, -2.2080,\n         -2.3151, -2.4359],\n        [-2.7031, -2.1649, -2.3329, -2.2365, -2.8564, -2.3834, -2.5924, -2.4950,\n         -1.8302, -1.9176],\n        [-2.5443, -2.0054, -2.4090, -2.0024, -2.7267, -2.3114, -2.4704, -2.6896,\n         -2.2233, -1.9901],\n        [-2.6369, -2.0160, -1.8268, -2.4559, -2.6666, -2.4556, -2.4933, -2.6856,\n         -1.9981, -2.2369],\n        [-2.4674, -2.4450, -1.9787, -2.7749, -2.5936, -2.3457, -2.5792, -2.6392,\n         -1.6451, -2.1449]], grad_fn=<SubBackward0>)"
     },
     "metadata": {}
    }
   ]
  },
  {
   "cell_type": "code",
   "metadata": {
    "tags": [],
    "cell_id": "00020-cef0a40e-1258-4dab-93fb-c7f046589cf3",
    "deepnote_to_be_reexecuted": false,
    "source_hash": "52801e73",
    "execution_start": 1623238942357,
    "execution_millis": 12,
    "deepnote_cell_type": "code"
   },
   "source": "-preds[range(0,64),0]",
   "execution_count": null,
   "outputs": [
    {
     "output_type": "execute_result",
     "execution_count": 71,
     "data": {
      "text/plain": "tensor([2.5562, 2.7586, 2.6596, 2.6024, 2.9204, 2.8741, 2.5960, 2.6323, 2.6332,\n        2.8086, 2.6119, 2.7904, 2.5528, 2.9885, 2.6083, 2.6440, 2.5767, 2.8322,\n        2.3620, 2.7756, 2.8066, 2.7850, 2.4492, 2.6514, 2.7842, 2.7646, 2.5746,\n        2.6270, 2.9358, 2.6618, 2.8016, 2.7621, 2.4078, 2.6411, 2.6892, 2.6307,\n        2.5079, 2.9145, 2.5572, 2.6950, 2.4261, 2.7995, 2.6882, 2.5125, 2.3682,\n        2.8363, 2.6179, 2.9735, 2.7597, 2.5202, 2.2873, 2.8338, 2.8203, 2.7741,\n        3.1909, 2.8302, 2.8421, 2.6991, 2.6401, 2.6094, 2.7031, 2.5443, 2.6369,\n        2.4674], grad_fn=<NegBackward>)"
     },
     "metadata": {}
    }
   ]
  },
  {
   "cell_type": "code",
   "metadata": {
    "tags": [],
    "cell_id": "00022-a30c3a46-45c0-4eb9-827b-b04f22dd722b",
    "deepnote_cell_type": "code"
   },
   "source": "",
   "execution_count": null,
   "outputs": []
  },
  {
   "cell_type": "markdown",
   "source": "<a style='text-decoration:none;line-height:16px;display:flex;color:#5B5B62;padding:10px;justify-content:end;' href='https://deepnote.com?utm_source=created-in-deepnote-cell&projectId=1b0fc471-afe9-40dd-afe8-89e46e68c6e6' target=\"_blank\">\n<img alt='Created in deepnote.com' style='display:inline;max-height:16px;margin:0px;margin-right:7.5px;' src='data:image/svg+xml;base64,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' > </img>\nCreated in <span style='font-weight:600;margin-left:4px;'>Deepnote</span></a>",
   "metadata": {
    "tags": [],
    "created_in_deepnote_cell": true,
    "deepnote_cell_type": "markdown"
   }
  }
 ],
 "nbformat": 4,
 "nbformat_minor": 2,
 "metadata": {
  "orig_nbformat": 2,
  "deepnote": {
   "is_reactive": false
  },
  "deepnote_notebook_id": "5135f93d-c573-4683-a40a-b664fa655b7f",
  "deepnote_execution_queue": []
 }
}