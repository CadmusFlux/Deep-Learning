{
 "cells": [
  {
   "cell_type": "code",
   "metadata": {
    "tags": [],
    "cell_id": "00000-791efc54-0fe4-4316-bf98-69faba67f60c",
    "deepnote_to_be_reexecuted": false,
    "source_hash": "71515f25",
    "execution_start": 1623140024616,
    "execution_millis": 3,
    "deepnote_cell_type": "code"
   },
   "source": "from pathlib import Path\nimport requests",
   "execution_count": null,
   "outputs": []
  },
  {
   "cell_type": "markdown",
   "source": "    1. Path and request module are used for fetching data from src.\n    2. The data is a zip file which contains the MNIST dataset in\n       pickle format.\n    3. Pickle format is used for serializing data(binary stream)\n       objects in python.",
   "metadata": {
    "tags": [],
    "cell_id": "00001-dc50f681-731d-4b0a-9277-c3706f13ba73",
    "deepnote_cell_type": "markdown"
   }
  },
  {
   "cell_type": "code",
   "metadata": {
    "tags": [],
    "cell_id": "00001-2c290225-39ca-4094-937c-f7aa00936624",
    "deepnote_to_be_reexecuted": false,
    "source_hash": "af398855",
    "execution_start": 1623140024622,
    "execution_millis": 3,
    "deepnote_cell_type": "code"
   },
   "source": "DATA_PATH = Path(\"data\")\nPATH = DATA_PATH / \"mnist\"\n\nPATH.mkdir( parents=True, exist_ok = True )\n\nURL = \"https://github.com/pytorch/tutorials/raw/master/_static/\"\nFILENAME = \"mnist.pkl.gz\"\n\nif not (PATH / FILENAME).exists():\n\n    content = requests.get(URL+FILENAME).content\n    (PATH / FILENAME).open(\"wb\").write(content)",
   "execution_count": null,
   "outputs": []
  },
  {
   "cell_type": "markdown",
   "source": "Here we use gzip and pickle module to unzip and access the dataset.",
   "metadata": {
    "tags": [],
    "cell_id": "00003-eccee77e-3a99-46f3-b010-56f339302af8",
    "deepnote_cell_type": "text-cell-p"
   }
  },
  {
   "cell_type": "code",
   "metadata": {
    "tags": [],
    "cell_id": "00002-35c8ee8b-8126-4f83-b885-0daf350f1c20",
    "deepnote_to_be_reexecuted": false,
    "source_hash": "3551f4d7",
    "execution_start": 1623140024632,
    "execution_millis": 978,
    "deepnote_cell_type": "code"
   },
   "source": "import pickle\nimport gzip\n\nwith gzip.open((PATH / FILENAME).as_posix(),\"rb\") as f:\n        ((x_train,y_train) ,(x_valid,y_valid),_) = pickle.load(f,\n            encoding= \"latin-1\")\n",
   "execution_count": null,
   "outputs": []
  },
  {
   "cell_type": "markdown",
   "source": "    1. The dataset are pixels of images but they are stored as a\n       flattened single vector or array with 784(28*28) columns or\n       entries. \n    2. Inorder to plot the image we need to reshape it to 2D.\n    3. There are 50,000 images or instances.",
   "metadata": {
    "tags": [],
    "cell_id": "00005-d98b3bda-afce-44c0-af97-d5d9b30122e6",
    "deepnote_cell_type": "markdown"
   }
  },
  {
   "cell_type": "code",
   "metadata": {
    "tags": [],
    "cell_id": "00003-61f5da25-f272-49fd-9aeb-1c8dfba1815f",
    "deepnote_to_be_reexecuted": false,
    "source_hash": "3c530038",
    "execution_start": 1623140300235,
    "execution_millis": 115,
    "deepnote_cell_type": "code"
   },
   "source": "from matplotlib import pyplot\nimport numpy as np\n\npyplot.imshow(x_train[0].reshape(28,28),cmap = \"gray\")\nprint(x_train.shape)",
   "execution_count": null,
   "outputs": [
    {
     "name": "stdout",
     "text": "(50000, 784)\n",
     "output_type": "stream"
    },
    {
     "data": {
      "text/plain": "<Figure size 432x288 with 1 Axes>",
      "image/png": "[encoded data removed]"
     },
     "metadata": {
      "needs_background": "light",
      "image/png": {
       "width": 251,
       "height": 248
      }
     },
     "output_type": "display_data"
    }
   ]
  },
  {
   "cell_type": "markdown",
   "source": "1. PyTorch works on torch.tensor data-objects but our data is an\n   array. Hence we need to construct tensor object from our dataset.\n2. Torch.tensor is a module which does this,  hence we use map and\n   (tensor module & corresponding array objects) to replace the array\n   storing variables with tensor objects. ",
   "metadata": {
    "tags": [],
    "cell_id": "00007-e512060e-373f-4248-ad74-ef32a6fb8bdb",
    "deepnote_cell_type": "markdown"
   }
  },
  {
   "cell_type": "code",
   "metadata": {
    "tags": [],
    "cell_id": "00004-025e67c4-191d-4bfe-adbd-c06075f279e8",
    "deepnote_to_be_reexecuted": false,
    "source_hash": "b6a448c",
    "execution_start": 1623142103237,
    "execution_millis": 81,
    "output_cleared": true,
    "deepnote_cell_type": "code"
   },
   "source": "import torch\n\nx_train , Y_train , x_valid , y_valid = map(\n        torch.tensor , (x_train,y_train,x_valid,y_valid)\n)\nn,c = x_train.shape\n\nprint(x_train,y_train)\nprint(x_train.shape)\nprint(y_train.min(),y_train.max())",
   "execution_count": null,
   "outputs": []
  },
  {
   "cell_type": "code",
   "metadata": {
    "tags": [],
    "cell_id": "00006-8639d22c-d7f1-48e0-b5b7-6ab97a5c6436",
    "deepnote_cell_type": "code"
   },
   "source": "",
   "execution_count": null,
   "outputs": []
  },
  {
   "cell_type": "markdown",
   "source": "<a style='text-decoration:none;line-height:16px;display:flex;color:#5B5B62;padding:10px;justify-content:end;' href='https://deepnote.com?utm_source=created-in-deepnote-cell&projectId=1b0fc471-afe9-40dd-afe8-89e46e68c6e6' target=\"_blank\">\n<img alt='Created in deepnote.com' style='display:inline;max-height:16px;margin:0px;margin-right:7.5px;' src='data:image/svg+xml;base64,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' > </img>\nCreated in <span style='font-weight:600;margin-left:4px;'>Deepnote</span></a>",
   "metadata": {
    "tags": [],
    "created_in_deepnote_cell": true,
    "deepnote_cell_type": "markdown"
   }
  }
 ],
 "nbformat": 4,
 "nbformat_minor": 2,
 "metadata": {
  "orig_nbformat": 2,
  "deepnote": {
   "is_reactive": false
  },
  "deepnote_notebook_id": "5135f93d-c573-4683-a40a-b664fa655b7f",
  "deepnote_execution_queue": []
 }
}