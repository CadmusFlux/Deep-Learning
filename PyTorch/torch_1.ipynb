{
 "cells": [
  {
   "cell_type": "code",
   "metadata": {
    "tags": [],
    "cell_id": "00000-791efc54-0fe4-4316-bf98-69faba67f60c",
    "deepnote_to_be_reexecuted": false,
    "source_hash": "71515f25",
    "execution_start": 1623152965436,
    "execution_millis": 0,
    "deepnote_cell_type": "code"
   },
   "source": "from pathlib import Path\nimport requests",
   "outputs": [],
   "execution_count": null
  },
  {
   "cell_type": "markdown",
   "source": "    1. Path and request module are used for fetching data from src.\n    2. The data is a zip file which contains the MNIST dataset in\n       pickle format.\n    3. Pickle format is used for serializing data(binary stream)\n       objects in python.",
   "metadata": {
    "tags": [],
    "cell_id": "00001-dc50f681-731d-4b0a-9277-c3706f13ba73",
    "deepnote_cell_type": "markdown"
   }
  },
  {
   "cell_type": "code",
   "metadata": {
    "tags": [],
    "cell_id": "00001-2c290225-39ca-4094-937c-f7aa00936624",
    "deepnote_to_be_reexecuted": false,
    "source_hash": "af398855",
    "execution_start": 1623152965436,
    "execution_millis": 0,
    "deepnote_cell_type": "code"
   },
   "source": "DATA_PATH = Path(\"data\")\nPATH = DATA_PATH / \"mnist\"\n\nPATH.mkdir( parents=True, exist_ok = True )\n\nURL = \"https://github.com/pytorch/tutorials/raw/master/_static/\"\nFILENAME = \"mnist.pkl.gz\"\n\nif not (PATH / FILENAME).exists():\n\n    content = requests.get(URL+FILENAME).content\n    (PATH / FILENAME).open(\"wb\").write(content)",
   "outputs": [],
   "execution_count": null
  },
  {
   "cell_type": "markdown",
   "source": "Here we use gzip and pickle module to unzip and access the dataset.",
   "metadata": {
    "tags": [],
    "cell_id": "00003-eccee77e-3a99-46f3-b010-56f339302af8",
    "deepnote_cell_type": "text-cell-p"
   }
  },
  {
   "cell_type": "code",
   "metadata": {
    "tags": [],
    "cell_id": "00002-35c8ee8b-8126-4f83-b885-0daf350f1c20",
    "deepnote_to_be_reexecuted": false,
    "source_hash": "3551f4d7",
    "execution_start": 1623152965437,
    "execution_millis": 1100,
    "deepnote_cell_type": "code"
   },
   "source": "import pickle\nimport gzip\n\nwith gzip.open((PATH / FILENAME).as_posix(),\"rb\") as f:\n        ((x_train,y_train) ,(x_valid,y_valid),_) = pickle.load(f,\n            encoding= \"latin-1\")\n",
   "outputs": [],
   "execution_count": null
  },
  {
   "cell_type": "markdown",
   "source": "    1. The dataset are pixels of images but they are stored as a\n       flattened single vector or array with 784(28*28) columns or\n       entries. \n    2. Inorder to plot the image we need to reshape it to 2D.\n    3. There are 50,000 images or instances.",
   "metadata": {
    "tags": [],
    "cell_id": "00005-d98b3bda-afce-44c0-af97-d5d9b30122e6",
    "deepnote_cell_type": "markdown"
   }
  },
  {
   "cell_type": "code",
   "metadata": {
    "tags": [],
    "cell_id": "00003-61f5da25-f272-49fd-9aeb-1c8dfba1815f",
    "deepnote_to_be_reexecuted": false,
    "source_hash": "3c530038",
    "execution_start": 1623152966546,
    "execution_millis": 573,
    "deepnote_cell_type": "code"
   },
   "source": "from matplotlib import pyplot\nimport numpy as np\n\npyplot.imshow(x_train[0].reshape(28,28),cmap = \"gray\")\nprint(x_train.shape)",
   "outputs": [
    {
     "name": "stdout",
     "text": "(50000, 784)\n",
     "output_type": "stream"
    },
    {
     "data": {
      "text/plain": "<Figure size 432x288 with 1 Axes>",
      "image/png": "[encoded data removed]"
     },
     "metadata": {
      "needs_background": "light",
      "image/png": {
       "width": 251,
       "height": 248
      }
     },
     "output_type": "display_data"
    }
   ],
   "execution_count": null
  },
  {
   "cell_type": "markdown",
   "source": "1. PyTorch works on torch.tensor data-objects but our data is an\n   array. Hence we need to construct tensor object from our dataset.\n2. Torch.tensor is a module which does this,  hence we use map and\n   (tensor module & corresponding array objects) to replace the array\n   storing variables with tensor objects. ",
   "metadata": {
    "tags": [],
    "cell_id": "00007-e512060e-373f-4248-ad74-ef32a6fb8bdb",
    "deepnote_cell_type": "markdown"
   }
  },
  {
   "cell_type": "code",
   "metadata": {
    "tags": [],
    "cell_id": "00004-025e67c4-191d-4bfe-adbd-c06075f279e8",
    "deepnote_to_be_reexecuted": false,
    "source_hash": "b6a448c",
    "execution_start": 1623152967123,
    "execution_millis": 709,
    "output_cleared": false,
    "deepnote_cell_type": "code"
   },
   "source": "import torch\n\nx_train , Y_train , x_valid , y_valid = map(\n        torch.tensor , (x_train,y_train,x_valid,y_valid)\n)\nn,c = x_train.shape\n\nprint(x_train,y_train)\nprint(x_train.shape)\nprint(y_train.min(),y_train.max())",
   "outputs": [
    {
     "name": "stdout",
     "text": "tensor([[0., 0., 0.,  ..., 0., 0., 0.],\n        [0., 0., 0.,  ..., 0., 0., 0.],\n        [0., 0., 0.,  ..., 0., 0., 0.],\n        ...,\n        [0., 0., 0.,  ..., 0., 0., 0.],\n        [0., 0., 0.,  ..., 0., 0., 0.],\n        [0., 0., 0.,  ..., 0., 0., 0.]]) [5 0 4 ... 8 4 8]\ntorch.Size([50000, 784])\n0 9\n",
     "output_type": "stream"
    }
   ],
   "execution_count": null
  },
  {
   "cell_type": "markdown",
   "source": "### Model (with tensor operations)",
   "metadata": {
    "tags": [],
    "cell_id": "00009-3f394157-e407-4211-8b4d-5d9121759782",
    "deepnote_cell_type": "text-cell-h3"
   }
  },
  {
   "cell_type": "code",
   "metadata": {
    "tags": [],
    "cell_id": "00006-8639d22c-d7f1-48e0-b5b7-6ab97a5c6436",
    "deepnote_to_be_reexecuted": false,
    "source_hash": "ad09f98e",
    "execution_start": 1623152999108,
    "execution_millis": 3,
    "deepnote_cell_type": "code"
   },
   "source": "import math\n\nweights = torch.randn(784,10) / math.sqrt(784)\nweights.requires_grad_()\nbias = torch.zeros(10,requires_grad= True)",
   "outputs": [],
   "execution_count": null
  },
  {
   "cell_type": "code",
   "source": "def log_softmax(x):\n    print(x)\n    return x - x.exp().sum().log().unsqueeze(-1)\n\ndef model(xb):\n    return log_softmax(xb @ weights + bias)",
   "metadata": {
    "tags": [],
    "cell_id": "00012-8639fe9d-a2f5-4a5a-b322-88af855280d0",
    "deepnote_to_be_reexecuted": false,
    "source_hash": "3303ea29",
    "execution_start": 1623153989796,
    "execution_millis": 3,
    "deepnote_cell_type": "code"
   },
   "outputs": [],
   "execution_count": null
  },
  {
   "cell_type": "code",
   "source": "bs = 64\n\nxb = x_train[0:bs]\npreds = model(xb)\npreds[0] , preds.shape\nprint(preds[0],preds.shape)",
   "metadata": {
    "tags": [],
    "cell_id": "00012-94dd6d80-dd14-4e34-ae8d-3c45eb9a911e",
    "deepnote_to_be_reexecuted": false,
    "source_hash": "52b41fee",
    "execution_start": 1623153990217,
    "execution_millis": 15,
    "deepnote_cell_type": "code"
   },
   "outputs": [
    {
     "name": "stdout",
     "text": "tensor([[ 0.3491,  0.2689,  0.1986, -0.0216, -0.3100, -0.3220,  0.3167, -0.2032,\n          0.2006, -0.1772],\n        [ 0.2745,  0.5444,  0.2706,  0.0593, -0.2628, -0.6475, -0.1728, -0.0886,\n         -0.3560, -0.1570],\n        [ 0.0825, -0.0705,  0.2043, -0.0310, -0.2172, -0.0914, -0.0654,  0.1234,\n          0.9127, -0.1294],\n        [ 0.1605,  0.2513,  0.2777,  0.2376, -0.1715,  0.2589,  0.2378,  0.1860,\n          0.3937, -0.0804],\n        [ 0.5712,  0.2126,  1.0248,  0.2692, -0.4475, -0.3661,  0.1577,  0.0239,\n          0.1573, -0.1259],\n        [ 0.1578,  0.1195,  1.0611,  0.3050, -0.0627,  0.2119, -0.0161, -0.0683,\n          0.8610,  0.3500],\n        [ 0.3297,  0.2145,  0.4115, -0.0864, -0.0514,  0.1353,  0.0287,  0.1513,\n          0.1402, -0.3990],\n        [ 0.7073,  0.3515,  0.8983,  0.0453, -0.0246, -0.2049,  0.4074,  0.2853,\n          0.3401, -0.0520],\n        [ 0.3199,  0.2306,  0.2530, -0.0689,  0.0034, -0.0186, -0.0418,  0.1160,\n         -0.1326, -0.5100],\n        [ 0.0919,  0.1159,  0.3533, -0.0208, -0.6941,  0.1500,  0.1367,  0.0286,\n          0.2822, -0.0601],\n        [ 0.5158,  0.3169,  0.7098, -0.3998,  0.2633,  0.4683,  0.2192,  0.1786,\n          0.0905,  0.0030],\n        [ 0.2807, -0.0278,  0.2437,  0.1769, -0.1265,  0.2060,  0.1527, -0.0833,\n          0.3521, -0.1510],\n        [ 0.4825,  0.0870,  0.4493,  0.0113, -0.1767,  0.2839, -0.5650, -0.2900,\n          0.4756, -0.0941],\n        [ 0.0287,  0.7940,  0.9407, -0.1885, -0.3419, -0.0442,  0.0236, -0.1744,\n          0.6245, -0.4462],\n        [ 0.2942,  0.2170,  0.3695, -0.0874,  0.0605,  0.2214, -0.0301,  0.0553,\n          0.0185, -0.2794],\n        [ 0.0129,  0.1637,  0.5572,  0.3849, -0.5745, -0.2964, -0.0310,  0.0941,\n          0.2194,  0.1900],\n        [ 0.0249,  0.1701,  0.5699,  0.1069, -0.0335,  0.2581,  0.4461,  0.2264,\n          0.7440, -0.5580],\n        [ 0.5421,  0.0543,  0.5585,  0.4910, -0.0500, -0.0335,  0.1248,  0.0258,\n          0.2818,  0.3063],\n        [ 0.1039,  0.4818,  0.3253, -0.1140, -0.6465, -0.0221, -0.0170,  0.2191,\n         -0.0047,  0.1077],\n        [ 0.3419,  0.1652,  0.5262,  0.1347, -0.4392,  0.1328,  0.2052,  0.0479,\n          0.2070,  0.3704],\n        [ 0.2778, -0.4974,  0.9300, -0.1940, -0.5697,  0.2284, -0.1466, -0.1214,\n          0.7334, -0.2951],\n        [ 0.5811,  0.4252,  0.3078,  0.3082, -0.1424, -0.2821, -0.5119, -0.1899,\n         -0.1569, -0.0755],\n        [ 0.0914,  0.0487,  0.3843,  0.1658, -0.3749,  0.0508,  0.1309, -0.0553,\n          0.3708,  0.1775],\n        [ 0.1363,  0.1967,  0.3144,  0.1824, -0.2264,  0.2665,  0.2190,  0.1647,\n          0.4189, -0.1567],\n        [ 0.3950,  0.1143,  0.4748, -0.2264,  0.0729, -0.1901, -0.1610, -0.1453,\n          0.2508,  0.4074],\n        [ 0.2761,  0.3074,  0.4723,  0.7847,  0.1677, -0.2317,  0.2553,  0.1144,\n          0.7978,  0.3140],\n        [ 0.3194,  0.4035,  0.1644,  0.0537, -0.3369, -0.0169,  0.0599, -0.0793,\n          0.1717, -0.0859],\n        [ 0.6977,  0.1566,  0.7440, -0.2528, -0.0307, -0.1290,  0.1929,  0.2028,\n          0.6996,  0.2384],\n        [-0.3272,  0.2577,  0.5914, -0.0771, -0.0701,  0.0030,  0.2392,  0.4624,\n          0.8784, -0.0811],\n        [-0.0724, -0.0305,  0.4497, -0.0827, -0.2388, -0.0534, -0.0249, -0.0135,\n          0.5794, -0.2600],\n        [ 0.1011,  0.3129,  0.9099,  0.0580, -0.2647, -0.1391,  0.0332, -0.3650,\n          0.6228, -0.0714],\n        [ 0.7962,  0.0546,  0.7908,  0.2896,  0.4093,  0.0240,  0.6247,  0.1698,\n          0.1224,  0.1551],\n        [-0.2426,  0.5961,  0.4610,  0.0319, -1.0242, -0.1734,  0.1559,  0.4746,\n          0.4039, -0.2144],\n        [ 0.0751,  0.0175,  0.6289,  0.2747, -0.5156,  0.3113,  0.2032,  0.0099,\n          0.4047,  0.4739],\n        [ 0.2560,  0.5155,  0.4222,  0.3785, -0.5582, -0.0751,  0.1961,  0.7008,\n          0.2021,  0.1765],\n        [ 0.2841,  0.1636,  0.1422,  0.0785,  0.0848,  0.2818, -0.0347,  0.2045,\n          0.1613, -0.0332],\n        [ 0.3108,  0.4795,  0.9030, -0.1821, -0.7047,  0.0755, -0.0258,  0.2657,\n          0.9193, -0.0982],\n        [ 0.1694,  0.3013,  0.2849,  0.2504, -0.4207, -0.2328,  0.0431,  0.3707,\n         -0.0704,  0.2195],\n        [-0.1648,  0.6482,  0.4246,  0.1469, -0.2762, -0.0906,  0.3210, -0.0950,\n          0.5009, -0.0780],\n        [-0.1884,  0.6334,  0.8792,  0.1072, -0.8932,  0.1985,  0.2201,  0.4162,\n          0.4664, -0.2654],\n        [ 0.5628,  0.2362,  0.5745, -0.0692,  0.4674,  0.1263,  0.2515, -0.2786,\n          0.0164, -0.1135],\n        [ 0.4111,  0.4252,  0.4895,  0.5974, -0.1288,  0.1149,  0.0130,  0.1271,\n          0.1296,  0.2834],\n        [ 0.1611,  0.1420,  0.3000,  0.0469,  0.0226, -0.1433, -0.0458, -0.1148,\n          0.0861,  0.2177],\n        [ 0.2938,  0.2531,  0.5624,  0.1605, -0.2023,  0.1057, -0.1843, -0.2959,\n          0.3267,  0.2675],\n        [ 0.5189,  0.1799,  0.3256,  0.0150, -0.0423, -0.0124,  0.1866, -0.1405,\n          0.3215, -0.2135],\n        [ 0.3785,  0.1543,  1.0441, -0.0018, -0.1466,  0.0197,  0.0052, -0.1815,\n          0.3573,  0.1421],\n        [ 0.4185, -0.0845,  0.1229, -0.1243, -0.2094, -0.0669,  0.1224,  0.2663,\n          0.4556, -0.1067],\n        [ 0.4993,  0.5532, -0.0577,  0.0467, -0.1581, -0.1731,  0.0609,  0.4633,\n         -0.3078, -0.1943],\n        [ 0.1937, -0.0757, -0.1863, -0.1721, -0.2925, -0.2653,  0.0216, -0.0546,\n          0.2224, -0.0134],\n        [ 0.7406,  0.1049,  0.3275, -0.1256,  0.1493, -0.2303,  0.0648,  0.2675,\n         -0.0468,  0.0094],\n        [ 0.1350,  0.3136,  0.1227, -0.1356, -0.0327,  0.1164,  0.2409,  0.0646,\n         -0.1307,  0.0904],\n        [ 0.5951,  0.0051,  0.4636, -0.0172,  0.1975, -0.5746, -0.2865, -0.2626,\n          0.1242,  0.0367],\n        [ 0.3442,  0.1262,  0.5826, -0.1145,  0.0873, -0.4547,  0.0128, -0.0507,\n          0.0750,  0.0275],\n        [ 0.2611,  0.1878,  0.4758,  0.0809, -0.6368, -0.0454,  0.2625,  0.0125,\n          0.2286, -0.0249],\n        [ 0.3073,  0.2739,  0.8868, -0.1522, -0.1846, -0.1444,  0.0852, -0.3039,\n          0.0733, -0.2501],\n        [ 0.3534,  0.5398,  0.6262,  0.3903,  0.0213, -0.1690,  0.2732, -0.0333,\n          0.4381, -0.2344],\n        [-0.0218, -0.2820,  0.0686,  0.2110, -0.0219, -0.5918, -0.2603, -0.1307,\n          0.5875,  0.1618],\n        [ 0.1886,  0.5806,  0.5663,  0.1850, -0.4584,  0.0033, -0.0353,  0.0613,\n          0.4418,  0.2185],\n        [ 0.5357,  0.0309,  0.7632, -0.1014, -0.4932, -0.4859,  0.3753,  0.1019,\n          0.7138,  0.0766],\n        [ 0.2627,  0.2499,  0.2271,  0.3120, -0.3740,  0.1765,  0.0900,  0.2678,\n          0.1102, -0.0910],\n        [-0.3363,  0.0483,  0.5126,  0.4452, -0.4969, -0.1153,  0.0563, -0.0160,\n          0.6952, -0.3545],\n        [ 0.0494,  0.3159,  0.3154, -0.1173, -0.5650,  0.0536,  0.0028,  0.2605,\n          0.6212, -0.1246],\n        [ 0.2422,  0.5847,  0.5245,  0.0560, -1.0101, -0.2896,  0.0512,  0.4116,\n          0.3069, -0.1015],\n        [ 0.6155, -0.0375,  1.1301,  0.2057, -0.1450, -0.2908,  0.1541, -0.2891,\n         -0.0402,  0.0978]], grad_fn=<AddBackward0>)\ntensor([-6.2843, -6.3645, -6.4347, -6.6550, -6.9434, -6.9554, -6.3167, -6.8366,\n        -6.4328, -6.8105], grad_fn=<SelectBackward>) torch.Size([64, 10])\n",
     "output_type": "stream"
    }
   ],
   "execution_count": null
  },
  {
   "cell_type": "code",
   "source": "",
   "metadata": {
    "tags": [],
    "cell_id": "00013-b7b24a79-b958-44c6-a518-360e9ac4850a",
    "deepnote_cell_type": "code"
   },
   "outputs": [],
   "execution_count": null
  },
  {
   "cell_type": "markdown",
   "source": "<a style='text-decoration:none;line-height:16px;display:flex;color:#5B5B62;padding:10px;justify-content:end;' href='https://deepnote.com?utm_source=created-in-deepnote-cell&projectId=1b0fc471-afe9-40dd-afe8-89e46e68c6e6' target=\"_blank\">\n<img alt='Created in deepnote.com' style='display:inline;max-height:16px;margin:0px;margin-right:7.5px;' src='data:image/svg+xml;base64,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' > </img>\nCreated in <span style='font-weight:600;margin-left:4px;'>Deepnote</span></a>",
   "metadata": {
    "tags": [],
    "created_in_deepnote_cell": true,
    "deepnote_cell_type": "markdown"
   }
  }
 ],
 "nbformat": 4,
 "nbformat_minor": 2,
 "metadata": {
  "orig_nbformat": 2,
  "deepnote": {
   "is_reactive": false
  },
  "deepnote_notebook_id": "5135f93d-c573-4683-a40a-b664fa655b7f",
  "deepnote_execution_queue": []
 }
}