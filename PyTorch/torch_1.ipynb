{
 "cells": [
  {
   "cell_type": "code",
   "metadata": {
    "tags": [],
    "cell_id": "00000-791efc54-0fe4-4316-bf98-69faba67f60c",
    "deepnote_to_be_reexecuted": false,
    "source_hash": "71515f25",
    "execution_start": 1623223912618,
    "execution_millis": 1,
    "deepnote_cell_type": "code"
   },
   "source": "from pathlib import Path\nimport requests",
   "execution_count": null,
   "outputs": []
  },
  {
   "cell_type": "markdown",
   "source": "    1. Path and request module are used for fetching data from src.\n    2. The data is a zip file which contains the MNIST dataset in\n       pickle format.\n    3. Pickle format is used for serializing data(binary stream)\n       objects in python.",
   "metadata": {
    "tags": [],
    "cell_id": "00001-dc50f681-731d-4b0a-9277-c3706f13ba73",
    "deepnote_cell_type": "markdown"
   }
  },
  {
   "cell_type": "code",
   "metadata": {
    "tags": [],
    "cell_id": "00001-2c290225-39ca-4094-937c-f7aa00936624",
    "deepnote_to_be_reexecuted": false,
    "source_hash": "af398855",
    "execution_start": 1623223912619,
    "execution_millis": 0,
    "deepnote_cell_type": "code"
   },
   "source": "DATA_PATH = Path(\"data\")\nPATH = DATA_PATH / \"mnist\"\n\nPATH.mkdir( parents=True, exist_ok = True )\n\nURL = \"https://github.com/pytorch/tutorials/raw/master/_static/\"\nFILENAME = \"mnist.pkl.gz\"\n\nif not (PATH / FILENAME).exists():\n\n    content = requests.get(URL+FILENAME).content\n    (PATH / FILENAME).open(\"wb\").write(content)",
   "execution_count": null,
   "outputs": []
  },
  {
   "cell_type": "markdown",
   "source": "Here we use gzip and pickle module to unzip and access the dataset.",
   "metadata": {
    "tags": [],
    "cell_id": "00003-eccee77e-3a99-46f3-b010-56f339302af8",
    "deepnote_cell_type": "text-cell-p"
   }
  },
  {
   "cell_type": "code",
   "metadata": {
    "tags": [],
    "cell_id": "00002-35c8ee8b-8126-4f83-b885-0daf350f1c20",
    "deepnote_to_be_reexecuted": false,
    "source_hash": "3551f4d7",
    "execution_start": 1623223912619,
    "execution_millis": 1027,
    "deepnote_cell_type": "code"
   },
   "source": "import pickle\nimport gzip\n\nwith gzip.open((PATH / FILENAME).as_posix(),\"rb\") as f:\n        ((x_train,y_train) ,(x_valid,y_valid),_) = pickle.load(f,\n            encoding= \"latin-1\")\n",
   "execution_count": null,
   "outputs": []
  },
  {
   "cell_type": "markdown",
   "source": "    1. The dataset are pixels of images but they are stored as a\n       flattened single vector or array with 784(28*28) columns or\n       entries. \n    2. Inorder to plot the image we need to reshape it to 2D.\n    3. There are 50,000 images or instances.",
   "metadata": {
    "tags": [],
    "cell_id": "00005-d98b3bda-afce-44c0-af97-d5d9b30122e6",
    "deepnote_cell_type": "markdown"
   }
  },
  {
   "cell_type": "code",
   "metadata": {
    "tags": [],
    "cell_id": "00003-61f5da25-f272-49fd-9aeb-1c8dfba1815f",
    "deepnote_to_be_reexecuted": false,
    "source_hash": "3c530038",
    "execution_start": 1623223913650,
    "execution_millis": 560,
    "deepnote_cell_type": "code"
   },
   "source": "from matplotlib import pyplot\nimport numpy as np\n\npyplot.imshow(x_train[0].reshape(28,28),cmap = \"gray\")\nprint(x_train.shape)",
   "execution_count": null,
   "outputs": [
    {
     "name": "stdout",
     "text": "(50000, 784)\n",
     "output_type": "stream"
    },
    {
     "data": {
      "text/plain": "<Figure size 432x288 with 1 Axes>",
      "image/png": "[encoded data removed]"
     },
     "metadata": {
      "needs_background": "light",
      "image/png": {
       "width": 251,
       "height": 248
      }
     },
     "output_type": "display_data"
    }
   ]
  },
  {
   "cell_type": "markdown",
   "source": "1. PyTorch works on torch.tensor data-objects but our data is an\n   array. Hence we need to construct tensor object from our dataset.\n2. Torch.tensor is a module which does this,  hence we use map and\n   (tensor module & corresponding array objects) to replace the array\n   storing variables with tensor objects. ",
   "metadata": {
    "tags": [],
    "cell_id": "00007-e512060e-373f-4248-ad74-ef32a6fb8bdb",
    "deepnote_cell_type": "markdown"
   }
  },
  {
   "cell_type": "code",
   "metadata": {
    "tags": [],
    "cell_id": "00004-025e67c4-191d-4bfe-adbd-c06075f279e8",
    "deepnote_to_be_reexecuted": false,
    "source_hash": "b6a448c",
    "execution_start": 1623223914214,
    "execution_millis": 699,
    "output_cleared": false,
    "deepnote_cell_type": "code"
   },
   "source": "import torch\n\nx_train , Y_train , x_valid , y_valid = map(\n        torch.tensor , (x_train,y_train,x_valid,y_valid)\n)\nn,c = x_train.shape\n\nprint(x_train,y_train)\nprint(x_train.shape)\nprint(y_train.min(),y_train.max())",
   "execution_count": null,
   "outputs": [
    {
     "name": "stdout",
     "text": "tensor([[0., 0., 0.,  ..., 0., 0., 0.],\n        [0., 0., 0.,  ..., 0., 0., 0.],\n        [0., 0., 0.,  ..., 0., 0., 0.],\n        ...,\n        [0., 0., 0.,  ..., 0., 0., 0.],\n        [0., 0., 0.,  ..., 0., 0., 0.],\n        [0., 0., 0.,  ..., 0., 0., 0.]]) [5 0 4 ... 8 4 8]\ntorch.Size([50000, 784])\n0 9\n",
     "output_type": "stream"
    }
   ]
  },
  {
   "cell_type": "markdown",
   "source": "### Model (with tensor operations)",
   "metadata": {
    "tags": [],
    "cell_id": "00009-3f394157-e407-4211-8b4d-5d9121759782",
    "deepnote_cell_type": "text-cell-h3"
   }
  },
  {
   "cell_type": "code",
   "metadata": {
    "tags": [],
    "cell_id": "00006-8639d22c-d7f1-48e0-b5b7-6ab97a5c6436",
    "deepnote_to_be_reexecuted": false,
    "source_hash": "ad09f98e",
    "execution_start": 1623223914910,
    "execution_millis": 6,
    "deepnote_cell_type": "code"
   },
   "source": "import math\n\nweights = torch.randn(784,10) / math.sqrt(784)\nweights.requires_grad_()\nbias = torch.zeros(10,requires_grad= True)",
   "execution_count": null,
   "outputs": []
  },
  {
   "cell_type": "code",
   "metadata": {
    "tags": [],
    "cell_id": "00012-8639fe9d-a2f5-4a5a-b322-88af855280d0",
    "deepnote_to_be_reexecuted": false,
    "source_hash": "4db8cd5b",
    "execution_start": 1623223914927,
    "execution_millis": 8,
    "deepnote_cell_type": "code"
   },
   "source": "def log_softmax(x):\n    return x - x.exp().sum().log().unsqueeze(-1)\n\ndef model(xb):\n    return log_softmax(xb @ weights + bias)",
   "execution_count": null,
   "outputs": []
  },
  {
   "cell_type": "code",
   "metadata": {
    "tags": [],
    "cell_id": "00012-94dd6d80-dd14-4e34-ae8d-3c45eb9a911e",
    "deepnote_to_be_reexecuted": false,
    "source_hash": "52b41fee",
    "execution_start": 1623223914981,
    "execution_millis": 6,
    "output_cleared": false,
    "deepnote_cell_type": "code"
   },
   "source": "bs = 64\n\nxb = x_train[0:bs]\npreds = model(xb)\npreds[0] , preds.shape\nprint(preds[0],preds.shape)",
   "execution_count": null,
   "outputs": [
    {
     "name": "stdout",
     "text": "tensor([-6.3358, -6.3654, -6.0178, -6.9725, -6.6209, -6.9156, -6.5498, -6.7311,\n        -6.8735, -6.0289], grad_fn=<SelectBackward>) torch.Size([64, 10])\n",
     "output_type": "stream"
    }
   ]
  },
  {
   "cell_type": "code",
   "metadata": {
    "tags": [],
    "cell_id": "00015-1f5bfd5f-30c4-461e-aad9-43a886f70c31",
    "deepnote_to_be_reexecuted": false,
    "source_hash": "7fb5e78f",
    "execution_start": 1623225496437,
    "execution_millis": 3,
    "deepnote_cell_type": "code"
   },
   "source": "l = xb @ weights + bias",
   "execution_count": null,
   "outputs": []
  },
  {
   "cell_type": "code",
   "metadata": {
    "tags": [],
    "cell_id": "00014-ea02fcbb-68ec-47ad-8f42-2846ec075a62",
    "deepnote_to_be_reexecuted": false,
    "source_hash": "3ff75068",
    "execution_start": 1623225896630,
    "execution_millis": 8,
    "deepnote_cell_type": "code"
   },
   "source": "l.shape",
   "execution_count": null,
   "outputs": [
    {
     "output_type": "execute_result",
     "execution_count": 58,
     "data": {
      "text/plain": "torch.Size([64, 10])"
     },
     "metadata": {}
    }
   ]
  },
  {
   "cell_type": "code",
   "metadata": {
    "tags": [],
    "cell_id": "00014-055bca9f-390c-4dc6-ab30-e707142a4db3",
    "deepnote_to_be_reexecuted": false,
    "source_hash": "bfd718a9",
    "execution_start": 1623225845629,
    "execution_millis": 6,
    "deepnote_cell_type": "code"
   },
   "source": "log_soft = l - l.exp().sum(-1).log().unsqueeze(-1)",
   "execution_count": null,
   "outputs": []
  },
  {
   "cell_type": "code",
   "metadata": {
    "tags": [],
    "cell_id": "00015-37b3c80a-0d98-484a-8d08-2b8645890b3b",
    "deepnote_to_be_reexecuted": false,
    "source_hash": "aa9eccd3",
    "execution_start": 1623225845845,
    "execution_millis": 32,
    "deepnote_cell_type": "code"
   },
   "source": "log_soft",
   "execution_count": null,
   "outputs": [
    {
     "output_type": "execute_result",
     "execution_count": 57,
     "data": {
      "text/plain": "tensor([[-2.1530, -2.1826, -1.8350, -2.7896, -2.4381, -2.7327, -2.3669, -2.5482,\n         -2.6906, -1.8460],\n        [-2.2337, -2.1499, -1.6490, -2.6603, -2.8657, -2.8566, -2.3212, -2.2682,\n         -3.1455, -1.8637],\n        [-2.3556, -2.7154, -2.2518, -2.2810, -2.1251, -2.2335, -2.5112, -1.9273,\n         -2.6104, -2.2556],\n        [-2.6266, -1.9856, -2.0644, -2.0906, -2.3576, -2.4838, -2.4762, -2.5211,\n         -2.4047, -2.2342],\n        [-2.2163, -1.9715, -2.2950, -2.7442, -2.8149, -2.5337, -2.4659, -2.3107,\n         -2.2164, -1.8690],\n        [-2.5693, -2.2976, -2.2553, -2.3227, -2.5291, -2.6312, -2.2422, -2.0860,\n         -2.3256, -1.9647],\n        [-2.5028, -2.2221, -2.1175, -2.5447, -2.7324, -2.3117, -2.8167, -2.2276,\n         -2.4744, -1.6349],\n        [-2.5226, -2.0071, -2.0816, -2.7307, -2.5080, -2.6356, -2.1809, -2.3033,\n         -2.4943, -1.9177],\n        [-2.4303, -2.1340, -2.1799, -2.4443, -2.7089, -2.1988, -2.4068, -2.4937,\n         -2.4744, -1.8369],\n        [-2.4532, -2.3488, -2.1780, -2.5576, -2.3785, -2.1783, -2.5556, -1.9250,\n         -2.6016, -2.0862],\n        [-2.2733, -1.7040, -2.1010, -3.0387, -2.8320, -2.6801, -2.4899, -2.4238,\n         -2.5047, -1.8069],\n        [-2.7700, -2.2635, -2.0708, -2.0216, -2.7094, -2.3421, -2.2301, -2.0149,\n         -2.4212, -2.4954],\n        [-2.9264, -1.7153, -2.0662, -2.3359, -2.6530, -2.7132, -2.6709, -2.3079,\n         -2.5798, -1.8208],\n        [-2.1275, -2.4293, -1.7349, -2.3957, -2.2327, -2.7902, -2.7419, -2.1130,\n         -3.0300, -2.0959],\n        [-2.3335, -2.3152, -2.0169, -2.5511, -2.6064, -2.3819, -2.5568, -2.5462,\n         -2.4073, -1.7088],\n        [-2.2762, -2.2639, -2.2618, -2.1099, -2.9458, -2.4623, -2.4413, -2.1424,\n         -2.6257, -1.8749],\n        [-2.2044, -2.2587, -2.2781, -2.5987, -2.5248, -2.1283, -2.1474, -2.9493,\n         -2.6444, -1.7777],\n        [-2.2109, -2.0009, -2.0828, -2.6909, -2.6078, -2.6899, -2.3504, -2.6240,\n         -2.1742, -1.9686],\n        [-2.6227, -1.9722, -2.1253, -2.7765, -2.4786, -2.4919, -2.6331, -2.1258,\n         -2.5945, -1.7481],\n        [-2.4275, -2.2023, -2.1105, -2.4710, -2.5937, -2.3206, -2.3968, -2.4245,\n         -2.4410, -1.8581],\n        [-2.5156, -2.4469, -2.5674, -2.7995, -1.7746, -2.5604, -2.3482, -2.1120,\n         -2.7636, -1.7801],\n        [-2.2638, -2.2418, -1.6235, -2.5996, -2.8922, -2.7543, -2.4590, -1.8893,\n         -2.8808, -2.2407],\n        [-2.3173, -2.6196, -2.0967, -2.6039, -2.2723, -2.1988, -2.5630, -2.2612,\n         -2.3225, -1.9773],\n        [-2.6891, -1.9703, -2.1745, -2.0946, -2.4322, -2.3953, -2.4922, -2.5257,\n         -2.3291, -2.1476],\n        [-2.5625, -1.9041, -2.0431, -2.3979, -2.8350, -2.7487, -2.2663, -2.2258,\n         -2.5340, -1.9686],\n        [-2.6287, -1.7889, -2.5546, -2.3834, -2.5745, -2.7448, -2.2107, -2.1122,\n         -2.6110, -1.9226],\n        [-2.5104, -1.8493, -2.3095, -2.7080, -2.7581, -2.3148, -2.4507, -2.3464,\n         -2.1949, -1.9666],\n        [-2.7601, -1.8496, -2.3291, -2.7517, -2.9722, -2.6767, -2.2830, -2.3432,\n         -2.5493, -1.5046],\n        [-2.6441, -2.1948, -1.9748, -2.0234, -3.2702, -2.1607, -2.2777, -2.2695,\n         -3.3774, -1.8754],\n        [-2.5615, -2.2309, -2.1602, -2.0175, -2.8579, -2.4382, -2.4504, -2.2636,\n         -2.4286, -1.9380],\n        [-2.6679, -2.3424, -2.0805, -2.6614, -2.2460, -2.5894, -2.3993, -2.4708,\n         -2.5999, -1.5639],\n        [-2.5427, -2.3548, -2.1444, -2.5961, -2.7725, -2.6892, -2.1109, -2.5223,\n         -2.2190, -1.6391],\n        [-2.0695, -2.1351, -2.0641, -2.3071, -2.3855, -2.6824, -2.8740, -2.0307,\n         -2.7861, -2.1268],\n        [-2.3271, -2.1173, -2.2155, -2.4114, -2.5111, -2.4378, -2.2627, -2.2324,\n         -2.5256, -2.0923],\n        [-2.6258, -2.1546, -1.6213, -2.8448, -2.7713, -2.5464, -2.4613, -2.3406,\n         -2.8028, -1.7562],\n        [-2.4085, -2.0150, -2.1743, -2.3443, -2.3624, -2.3843, -2.3103, -2.4059,\n         -2.2941, -2.4022],\n        [-2.7288, -2.1524, -1.7186, -2.8271, -2.3881, -2.8973, -3.2290, -2.3067,\n         -2.8068, -1.4548],\n        [-2.3397, -2.0893, -1.6185, -2.5667, -2.8689, -2.7231, -2.1801, -2.2730,\n         -3.2316, -2.0642],\n        [-2.3046, -2.1087, -2.0693, -2.8516, -2.4488, -2.4602, -2.5409, -2.5581,\n         -2.3544, -1.7616],\n        [-2.1296, -2.4941, -2.0150, -2.6167, -2.7780, -2.6082, -2.6841, -1.9194,\n         -3.0534, -1.6390],\n        [-2.5468, -2.1608, -1.9545, -2.4688, -2.6149, -2.1903, -2.3333, -2.4229,\n         -2.5010, -2.0604],\n        [-2.5499, -1.5572, -1.9996, -2.7659, -2.6927, -2.9388, -2.5295, -2.5215,\n         -2.4021, -1.9542],\n        [-2.2999, -1.9879, -2.2356, -2.6697, -2.8760, -2.2877, -2.5368, -2.4454,\n         -2.0702, -1.9898],\n        [-2.2169, -2.0790, -2.0348, -2.6060, -2.4268, -2.5352, -2.4691, -2.1397,\n         -2.6017, -2.1421],\n        [-2.5158, -2.2092, -1.7169, -2.7164, -2.3817, -2.5001, -2.3622, -2.3847,\n         -2.6250, -2.0368],\n        [-2.4804, -1.9668, -2.3413, -2.9900, -2.6293, -2.6808, -2.1780, -2.1857,\n         -2.5264, -1.6947],\n        [-3.0716, -1.8606, -2.0242, -2.3454, -2.6620, -2.3050, -2.4804, -2.5250,\n         -2.4440, -1.8971],\n        [-2.2929, -1.8176, -1.6786, -2.5732, -2.8033, -2.5053, -2.4678, -2.8274,\n         -2.5907, -2.1846],\n        [-2.2565, -2.3130, -2.1584, -2.5340, -2.4883, -2.6176, -2.6212, -2.0997,\n         -2.2515, -1.9311],\n        [-2.5232, -1.9321, -1.8244, -2.8241, -2.7355, -2.9239, -2.3751, -2.3590,\n         -2.2312, -1.9606],\n        [-2.3942, -1.7041, -2.1685, -2.3285, -2.5780, -2.5188, -2.3995, -2.2955,\n         -2.5162, -2.4500],\n        [-2.9028, -2.4132, -1.8095, -2.5067, -2.9727, -2.5810, -2.2845, -2.0984,\n         -2.7391, -1.6381],\n        [-2.3832, -2.1503, -2.0987, -2.7761, -3.1957, -2.1817, -2.2870, -2.2326,\n         -2.8077, -1.6958],\n        [-2.6107, -2.0673, -1.7813, -2.4954, -2.4813, -2.4696, -2.6309, -2.3442,\n         -2.3854, -2.1131],\n        [-2.4435, -1.7963, -2.8099, -2.6628, -3.0382, -2.3894, -2.2361, -2.0734,\n         -2.4760, -1.8266],\n        [-2.6302, -1.7949, -2.1064, -2.1655, -2.7301, -2.7845, -2.8569, -2.4174,\n         -2.4680, -1.7892],\n        [-2.6504, -2.2766, -2.0401, -2.4610, -3.2318, -2.2910, -2.0415, -2.0273,\n         -2.8019, -1.9072],\n        [-2.1227, -2.1816, -2.2363, -2.5490, -2.5782, -2.3233, -2.3652, -2.2976,\n         -2.6577, -1.9378],\n        [-2.5511, -1.9837, -2.2645, -2.8980, -2.4508, -2.2508, -2.4778, -2.1833,\n         -2.8097, -1.7312],\n        [-2.5900, -1.8046, -1.9251, -2.3020, -2.4717, -2.4145, -2.4395, -2.5292,\n         -2.5527, -2.3447],\n        [-2.4454, -2.5185, -2.1830, -2.4070, -2.1258, -2.3276, -2.2938, -2.1844,\n         -2.7374, -2.0030],\n        [-2.5553, -1.9812, -2.1320, -2.4975, -2.2144, -2.4479, -2.5527, -2.3913,\n         -2.3633, -2.0846],\n        [-2.7754, -2.2791, -1.4285, -3.0082, -2.6463, -2.6432, -3.1131, -2.4795,\n         -2.7567, -1.5491],\n        [-2.6032, -2.2681, -1.8627, -3.1534, -2.6681, -2.7445, -2.4648, -1.9567,\n         -2.5089, -1.6976]], grad_fn=<SubBackward0>)"
     },
     "metadata": {}
    }
   ]
  },
  {
   "cell_type": "code",
   "metadata": {
    "tags": [],
    "cell_id": "00015-ba42b661-a103-4699-94d2-3acac6417563",
    "deepnote_to_be_reexecuted": false,
    "source_hash": "c3bd9dbb",
    "execution_start": 1623225816150,
    "execution_millis": 0,
    "deepnote_cell_type": "code"
   },
   "source": "softmax = l.exp() / l.exp().sum()",
   "execution_count": null,
   "outputs": []
  },
  {
   "cell_type": "code",
   "metadata": {
    "tags": [],
    "cell_id": "00015-aadf0852-00f4-4ce4-bc6c-ee61e6a83ce8",
    "deepnote_to_be_reexecuted": false,
    "source_hash": "d5bb742d",
    "execution_start": 1623225816891,
    "execution_millis": 24,
    "deepnote_cell_type": "code"
   },
   "source": "softmax",
   "execution_count": null,
   "outputs": [
    {
     "output_type": "execute_result",
     "execution_count": 53,
     "data": {
      "text/plain": "tensor([[0.0018, 0.0017, 0.0024, 0.0009, 0.0013, 0.0010, 0.0014, 0.0012, 0.0010,\n         0.0024],\n        [0.0018, 0.0019, 0.0032, 0.0012, 0.0010, 0.0010, 0.0016, 0.0017, 0.0007,\n         0.0026],\n        [0.0013, 0.0009, 0.0014, 0.0014, 0.0016, 0.0015, 0.0011, 0.0020, 0.0010,\n         0.0014],\n        [0.0011, 0.0020, 0.0019, 0.0018, 0.0014, 0.0012, 0.0012, 0.0012, 0.0013,\n         0.0016],\n        [0.0019, 0.0024, 0.0017, 0.0011, 0.0010, 0.0014, 0.0014, 0.0017, 0.0019,\n         0.0026],\n        [0.0010, 0.0013, 0.0013, 0.0013, 0.0010, 0.0009, 0.0014, 0.0016, 0.0013,\n         0.0018],\n        [0.0013, 0.0017, 0.0019, 0.0012, 0.0010, 0.0015, 0.0009, 0.0017, 0.0013,\n         0.0030],\n        [0.0011, 0.0019, 0.0017, 0.0009, 0.0011, 0.0010, 0.0016, 0.0014, 0.0011,\n         0.0020],\n        [0.0013, 0.0018, 0.0017, 0.0013, 0.0010, 0.0017, 0.0014, 0.0013, 0.0013,\n         0.0024],\n        [0.0013, 0.0015, 0.0017, 0.0012, 0.0014, 0.0017, 0.0012, 0.0022, 0.0011,\n         0.0019],\n        [0.0017, 0.0031, 0.0021, 0.0008, 0.0010, 0.0012, 0.0014, 0.0015, 0.0014,\n         0.0028],\n        [0.0009, 0.0016, 0.0019, 0.0020, 0.0010, 0.0014, 0.0016, 0.0020, 0.0013,\n         0.0012],\n        [0.0010, 0.0033, 0.0023, 0.0018, 0.0013, 0.0012, 0.0013, 0.0018, 0.0014,\n         0.0030],\n        [0.0017, 0.0012, 0.0025, 0.0013, 0.0015, 0.0009, 0.0009, 0.0017, 0.0007,\n         0.0017],\n        [0.0015, 0.0015, 0.0020, 0.0012, 0.0011, 0.0014, 0.0012, 0.0012, 0.0014,\n         0.0027],\n        [0.0018, 0.0018, 0.0018, 0.0021, 0.0009, 0.0015, 0.0015, 0.0021, 0.0013,\n         0.0027],\n        [0.0015, 0.0014, 0.0014, 0.0010, 0.0011, 0.0016, 0.0016, 0.0007, 0.0010,\n         0.0023],\n        [0.0017, 0.0021, 0.0019, 0.0010, 0.0011, 0.0010, 0.0015, 0.0011, 0.0017,\n         0.0021],\n        [0.0010, 0.0020, 0.0017, 0.0009, 0.0012, 0.0012, 0.0010, 0.0017, 0.0011,\n         0.0025],\n        [0.0014, 0.0018, 0.0019, 0.0014, 0.0012, 0.0016, 0.0015, 0.0014, 0.0014,\n         0.0025],\n        [0.0011, 0.0012, 0.0010, 0.0008, 0.0023, 0.0010, 0.0013, 0.0016, 0.0009,\n         0.0023],\n        [0.0019, 0.0019, 0.0035, 0.0013, 0.0010, 0.0011, 0.0015, 0.0027, 0.0010,\n         0.0019],\n        [0.0014, 0.0011, 0.0018, 0.0011, 0.0015, 0.0016, 0.0011, 0.0015, 0.0014,\n         0.0020],\n        [0.0010, 0.0020, 0.0017, 0.0018, 0.0013, 0.0013, 0.0012, 0.0012, 0.0014,\n         0.0017],\n        [0.0013, 0.0026, 0.0022, 0.0016, 0.0010, 0.0011, 0.0018, 0.0019, 0.0014,\n         0.0024],\n        [0.0009, 0.0021, 0.0010, 0.0011, 0.0009, 0.0008, 0.0014, 0.0015, 0.0009,\n         0.0018],\n        [0.0013, 0.0026, 0.0016, 0.0011, 0.0010, 0.0016, 0.0014, 0.0016, 0.0018,\n         0.0023],\n        [0.0010, 0.0025, 0.0016, 0.0010, 0.0008, 0.0011, 0.0016, 0.0015, 0.0012,\n         0.0036],\n        [0.0013, 0.0020, 0.0025, 0.0024, 0.0007, 0.0021, 0.0019, 0.0019, 0.0006,\n         0.0028],\n        [0.0012, 0.0017, 0.0018, 0.0021, 0.0009, 0.0014, 0.0014, 0.0017, 0.0014,\n         0.0023],\n        [0.0011, 0.0015, 0.0020, 0.0011, 0.0017, 0.0012, 0.0015, 0.0014, 0.0012,\n         0.0033],\n        [0.0012, 0.0015, 0.0018, 0.0012, 0.0010, 0.0011, 0.0019, 0.0013, 0.0017,\n         0.0030],\n        [0.0018, 0.0017, 0.0018, 0.0014, 0.0013, 0.0010, 0.0008, 0.0019, 0.0009,\n         0.0017],\n        [0.0017, 0.0020, 0.0019, 0.0015, 0.0014, 0.0015, 0.0018, 0.0018, 0.0014,\n         0.0021],\n        [0.0010, 0.0015, 0.0026, 0.0008, 0.0008, 0.0010, 0.0011, 0.0013, 0.0008,\n         0.0023],\n        [0.0013, 0.0020, 0.0017, 0.0014, 0.0014, 0.0014, 0.0015, 0.0013, 0.0015,\n         0.0014],\n        [0.0009, 0.0016, 0.0025, 0.0008, 0.0013, 0.0008, 0.0006, 0.0014, 0.0009,\n         0.0033],\n        [0.0014, 0.0017, 0.0028, 0.0011, 0.0008, 0.0009, 0.0016, 0.0014, 0.0006,\n         0.0018],\n        [0.0017, 0.0020, 0.0021, 0.0010, 0.0014, 0.0014, 0.0013, 0.0013, 0.0016,\n         0.0028],\n        [0.0017, 0.0012, 0.0019, 0.0010, 0.0009, 0.0010, 0.0010, 0.0021, 0.0007,\n         0.0028],\n        [0.0013, 0.0019, 0.0023, 0.0014, 0.0012, 0.0018, 0.0016, 0.0014, 0.0013,\n         0.0021],\n        [0.0012, 0.0033, 0.0021, 0.0010, 0.0011, 0.0008, 0.0013, 0.0013, 0.0014,\n         0.0022],\n        [0.0018, 0.0024, 0.0019, 0.0012, 0.0010, 0.0018, 0.0014, 0.0015, 0.0022,\n         0.0024],\n        [0.0018, 0.0021, 0.0022, 0.0012, 0.0015, 0.0013, 0.0014, 0.0019, 0.0012,\n         0.0019],\n        [0.0013, 0.0018, 0.0030, 0.0011, 0.0015, 0.0014, 0.0016, 0.0015, 0.0012,\n         0.0022],\n        [0.0014, 0.0023, 0.0016, 0.0008, 0.0012, 0.0011, 0.0019, 0.0019, 0.0013,\n         0.0031],\n        [0.0007, 0.0024, 0.0021, 0.0015, 0.0011, 0.0016, 0.0013, 0.0013, 0.0014,\n         0.0023],\n        [0.0016, 0.0026, 0.0030, 0.0012, 0.0010, 0.0013, 0.0013, 0.0009, 0.0012,\n         0.0018],\n        [0.0018, 0.0017, 0.0020, 0.0014, 0.0015, 0.0013, 0.0013, 0.0022, 0.0019,\n         0.0026],\n        [0.0013, 0.0024, 0.0027, 0.0010, 0.0011, 0.0009, 0.0015, 0.0016, 0.0018,\n         0.0023],\n        [0.0014, 0.0028, 0.0017, 0.0015, 0.0012, 0.0012, 0.0014, 0.0015, 0.0012,\n         0.0013],\n        [0.0009, 0.0014, 0.0026, 0.0013, 0.0008, 0.0012, 0.0016, 0.0020, 0.0010,\n         0.0031],\n        [0.0015, 0.0019, 0.0020, 0.0010, 0.0007, 0.0018, 0.0016, 0.0017, 0.0010,\n         0.0029],\n        [0.0012, 0.0022, 0.0029, 0.0014, 0.0014, 0.0014, 0.0012, 0.0016, 0.0016,\n         0.0021],\n        [0.0013, 0.0025, 0.0009, 0.0011, 0.0007, 0.0014, 0.0016, 0.0019, 0.0013,\n         0.0024],\n        [0.0011, 0.0026, 0.0019, 0.0018, 0.0010, 0.0010, 0.0009, 0.0014, 0.0013,\n         0.0026],\n        [0.0012, 0.0018, 0.0022, 0.0015, 0.0007, 0.0017, 0.0022, 0.0022, 0.0010,\n         0.0025],\n        [0.0020, 0.0019, 0.0018, 0.0013, 0.0013, 0.0016, 0.0016, 0.0017, 0.0012,\n         0.0024],\n        [0.0013, 0.0023, 0.0017, 0.0009, 0.0014, 0.0018, 0.0014, 0.0019, 0.0010,\n         0.0029],\n        [0.0011, 0.0024, 0.0021, 0.0015, 0.0012, 0.0013, 0.0013, 0.0012, 0.0011,\n         0.0014],\n        [0.0012, 0.0011, 0.0016, 0.0013, 0.0017, 0.0014, 0.0014, 0.0016, 0.0009,\n         0.0019],\n        [0.0012, 0.0021, 0.0018, 0.0012, 0.0017, 0.0013, 0.0012, 0.0014, 0.0014,\n         0.0019],\n        [0.0009, 0.0015, 0.0036, 0.0007, 0.0011, 0.0011, 0.0007, 0.0012, 0.0009,\n         0.0032],\n        [0.0012, 0.0017, 0.0026, 0.0007, 0.0012, 0.0011, 0.0014, 0.0024, 0.0014,\n         0.0031]], grad_fn=<DivBackward0>)"
     },
     "metadata": {}
    }
   ]
  },
  {
   "cell_type": "code",
   "metadata": {
    "tags": [],
    "cell_id": "00016-fb0dd7d9-89a5-43a1-ac09-d5f523483e75",
    "deepnote_cell_type": "code"
   },
   "source": "",
   "execution_count": null,
   "outputs": []
  },
  {
   "cell_type": "markdown",
   "source": "<a style='text-decoration:none;line-height:16px;display:flex;color:#5B5B62;padding:10px;justify-content:end;' href='https://deepnote.com?utm_source=created-in-deepnote-cell&projectId=1b0fc471-afe9-40dd-afe8-89e46e68c6e6' target=\"_blank\">\n<img alt='Created in deepnote.com' style='display:inline;max-height:16px;margin:0px;margin-right:7.5px;' src='data:image/svg+xml;base64,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' > </img>\nCreated in <span style='font-weight:600;margin-left:4px;'>Deepnote</span></a>",
   "metadata": {
    "tags": [],
    "created_in_deepnote_cell": true,
    "deepnote_cell_type": "markdown"
   }
  }
 ],
 "nbformat": 4,
 "nbformat_minor": 2,
 "metadata": {
  "orig_nbformat": 2,
  "deepnote": {
   "is_reactive": false
  },
  "deepnote_notebook_id": "5135f93d-c573-4683-a40a-b664fa655b7f",
  "deepnote_execution_queue": []
 }
}